{
  "nbformat": 4,
  "nbformat_minor": 0,
  "metadata": {
    "colab": {
      "provenance": [],
      "authorship_tag": "ABX9TyM28l8lsjfmqDDtGnf3ThvW",
      "include_colab_link": true
    },
    "kernelspec": {
      "name": "python3",
      "display_name": "Python 3"
    },
    "language_info": {
      "name": "python"
    }
  },
  "cells": [
    {
      "cell_type": "markdown",
      "metadata": {
        "id": "view-in-github",
        "colab_type": "text"
      },
      "source": [
        "<a href=\"https://colab.research.google.com/github/amara-anjum/AUA-s-repo/blob/main/webscraping_html_Beautifulsoup.ipynb\" target=\"_parent\"><img src=\"https://colab.research.google.com/assets/colab-badge.svg\" alt=\"Open In Colab\"/></a>"
      ]
    },
    {
      "cell_type": "code",
      "execution_count": 3,
      "metadata": {
        "colab": {
          "base_uri": "https://localhost:8080/"
        },
        "id": "KM4bMD49pOnj",
        "outputId": "6352abc4-be55-4821-8337-81652632c420"
      },
      "outputs": [
        {
          "output_type": "stream",
          "name": "stdout",
          "text": [
            "Requirement already satisfied: html5lib in /usr/local/lib/python3.10/dist-packages (1.1)\n",
            "Requirement already satisfied: six>=1.9 in /usr/local/lib/python3.10/dist-packages (from html5lib) (1.16.0)\n",
            "Requirement already satisfied: webencodings in /usr/local/lib/python3.10/dist-packages (from html5lib) (0.5.1)\n",
            "Collecting bs4\n",
            "  Downloading bs4-0.0.2-py2.py3-none-any.whl (1.2 kB)\n",
            "Requirement already satisfied: beautifulsoup4 in /usr/local/lib/python3.10/dist-packages (from bs4) (4.12.3)\n",
            "Requirement already satisfied: soupsieve>1.2 in /usr/local/lib/python3.10/dist-packages (from beautifulsoup4->bs4) (2.5)\n",
            "Installing collected packages: bs4\n",
            "Successfully installed bs4-0.0.2\n"
          ]
        }
      ],
      "source": [
        "!pip install html5lib\n",
        "!pip install bs4\n",
        "from bs4 import BeautifulSoup # this module helps in web scrapping.\n",
        "import requests  # this module helps us to download a web page\n",
        "url = \"https://cf-courses-data.s3.us.cloud-object-storage.appdomain.cloud/IBM-DA0321EN-SkillsNetwork/labs/datasets/HTMLColorCodes.html\""
      ]
    },
    {
      "cell_type": "code",
      "source": [
        "# get the contents of the webpage in text format and store in a variable called data\n",
        "data = requests.get(url).text"
      ],
      "metadata": {
        "id": "0Uu9Fr-_qOzr"
      },
      "execution_count": 4,
      "outputs": []
    },
    {
      "cell_type": "code",
      "source": [
        "soup = BeautifulSoup(data, \"html5lib\")"
      ],
      "metadata": {
        "id": "8TovamgVqXDs"
      },
      "execution_count": 5,
      "outputs": []
    },
    {
      "cell_type": "code",
      "source": [
        "table = soup.find('table')  # in html table is represented by the tag <table>"
      ],
      "metadata": {
        "id": "rJlB8KzfrWAV"
      },
      "execution_count": 6,
      "outputs": []
    },
    {
      "cell_type": "code",
      "source": [
        "for row in table.find_all('tr'):  # in html table row represented by tag <tr>\n",
        "    # Get all columns in each row.\n",
        "    cols = row.find_all('td')  # in html a column is represented by tag <td>\n",
        "    number = cols[0].text\n",
        "\n",
        "    color_name = cols[2].string  # store the value in column 3 as color_name\n",
        "    color_code = cols[3].text  # store the value in column 4 as color_code\n",
        "    color_dcode = cols[4].text\n",
        "    print(\"{}----{}----{}----{}\".format(number, color_name, color_code, color_dcode ))"
      ],
      "metadata": {
        "colab": {
          "base_uri": "https://localhost:8080/"
        },
        "id": "OoATowuurmMn",
        "outputId": "976f4245-1801-4479-8e65-8b5b009bb1fd"
      },
      "execution_count": 12,
      "outputs": [
        {
          "output_type": "stream",
          "name": "stdout",
          "text": [
            "Number ----Color Name----Hex Code#RRGGBB----Decimal Code(R,G,B)\n",
            "1----lightsalmon----#FFA07A----rgb(255,160,122)\n",
            "2----salmon----#FA8072----rgb(250,128,114)\n",
            "3----darksalmon----#E9967A----rgb(233,150,122)\n",
            "4----lightcoral----#F08080----rgb(240,128,128)\n",
            "5----coral----#FF7F50----rgb(255,127,80)\n",
            "6----tomato----#FF6347----rgb(255,99,71)\n",
            "7----orangered----#FF4500----rgb(255,69,0)\n",
            "8----gold----#FFD700----rgb(255,215,0)\n",
            "9----orange----#FFA500----rgb(255,165,0)\n",
            "10----darkorange----#FF8C00----rgb(255,140,0)\n",
            "11----lightyellow----#FFFFE0----rgb(255,255,224)\n",
            "12----lemonchiffon----#FFFACD----rgb(255,250,205)\n",
            "13----papayawhip----#FFEFD5----rgb(255,239,213)\n",
            "14----moccasin----#FFE4B5----rgb(255,228,181)\n",
            "15----peachpuff----#FFDAB9----rgb(255,218,185)\n",
            "16----palegoldenrod----#EEE8AA----rgb(238,232,170)\n",
            "17----khaki----#F0E68C----rgb(240,230,140)\n",
            "18----darkkhaki----#BDB76B----rgb(189,183,107)\n",
            "19----yellow----#FFFF00----rgb(255,255,0)\n",
            "20----lawngreen----#7CFC00----rgb(124,252,0)\n",
            "21----chartreuse----#7FFF00----rgb(127,255,0)\n",
            "22----limegreen----#32CD32----rgb(50,205,50)\n",
            "23----lime----#00FF00----rgb(0.255.0)\n",
            "24----forestgreen----#228B22----rgb(34,139,34)\n",
            "25----green----#008000----rgb(0,128,0)\n",
            "26----powderblue----#B0E0E6----rgb(176,224,230)\n",
            "27----lightblue----#ADD8E6----rgb(173,216,230)\n",
            "28----lightskyblue----#87CEFA----rgb(135,206,250)\n",
            "29----skyblue----#87CEEB----rgb(135,206,235)\n",
            "30----deepskyblue----#00BFFF----rgb(0,191,255)\n",
            "31----lightsteelblue----#B0C4DE----rgb(176,196,222)\n",
            "32----dodgerblue----#1E90FF----rgb(30,144,255)\n"
          ]
        }
      ]
    }
  ]
}